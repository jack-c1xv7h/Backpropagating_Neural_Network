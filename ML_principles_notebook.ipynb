{
 "cells": [
  {
   "cell_type": "code",
   "execution_count": null,
   "metadata": {},
   "outputs": [],
   "source": [
    "import numpy as np\n",
    "import math\n",
    "from numpy.random import default_rng\n",
    "\n",
    "input_values = np.array([1.0 ,1.0 ,1.0, 1.0, 1.0, 1.0, 1.0, 1.0])\n",
    "y = np.array([1.0, 0.0, 0.0, 0.0])\n",
    "\n",
    "class Neural_Network:\n",
    "    def __init__(self, definition_array, activation_function):\n",
    "        self.definition = definition_array\n",
    "        self.activation_function = activation_function\n",
    "        self.layers = list()\n",
    "        layer_number = len(definition_array)\n",
    "        for i in range(len(definition_array)):\n",
    "            try:\n",
    "                prev_layer = self.layers[i-1]\n",
    "            except IndexError:\n",
    "                prev_layer = \"null\"\n",
    "            try:\n",
    "                prev_layer_Neuron_count = self.layers[i-1].Neuron_count\n",
    "            except IndexError:\n",
    "                prev_layer_Neuron_count = 0\n",
    "            self.layers.append(Layer(prev_layer, definition_array[i], prev_layer_Neuron_count, layer_number, self.activation_function, self))\n",
    "            layer_number -= 1\n",
    "\n",
    "    def feedforward(self):\n",
    "        for i in self.layers:\n",
    "            print(\"layer_number:\", i.layer_number, \" prev_layer_number:\", i.prev_Layer, \" Neuron_count:\", i.Neuron_count, \" prev_Neuron_count:\", i.prev_Layer_Neuron_count)\n",
    "            i.feedforward()\n",
    "            print(i.activation_values)\n",
    "        self.output_values = np.array(softmax(self.layers[len(self.layers) - 1].activation_values))\n",
    "        print(self.output_values * 100)\n",
    "\n",
    "    def backpropagate(self):\n",
    "        for i in reversed(self.layers):\n",
    "            print(\"layer_number:\", i.layer_number, \" prev_layer_number:\", i.prev_Layer, \" Neuron_count:\", i.Neuron_count, \" prev_Neuron_count:\", i.prev_Layer_Neuron_count)\n",
    "            i.backpropagate(y)\n",
    "            print(i.weights)\n",
    "\n",
    "class Layer:\n",
    "    def __init__(self, prev_Layer, Neuron_count, prev_Layer_Neuron_count, layer_number, activation_function, nn):\n",
    "        self.nn = nn\n",
    "        self.prev_Layer = prev_Layer\n",
    "        self.Neuron_count = Neuron_count\n",
    "        self.layer_number = layer_number\n",
    "        self.activation_function = activation_function\n",
    "        self.prev_Layer_Neuron_count = prev_Layer_Neuron_count\n",
    "        self.inputs = np.zeros(self.prev_Layer_Neuron_count)\n",
    "        self.weights = default_rng(42).random((self.prev_Layer_Neuron_count, self.Neuron_count))\n",
    "        self.biases = np.zeros(self.Neuron_count)\n",
    "        self.activation_values = np.zeros(self.Neuron_count)\n",
    "        if self.prev_Layer == \"null\":\n",
    "            self.activation_values = input_values\n",
    "    def __str__(self):\n",
    "        return f\"{self.layer_number}\"\n",
    "    def feedforward(self):\n",
    "        if self.prev_Layer != \"null\":\n",
    "            for i in range(self.Neuron_count):\n",
    "                self.inputs = self.prev_Layer.activation_values\n",
    "                self.neuron_weights = self.weights[: , i]\n",
    "                if(self.activation_function == \"sigmoid\"): self.activation_values[i] = sigmoid(np.sum(self.inputs * self.neuron_weights) + self.biases[i])\n",
    "                elif(self.activation_function == \"relu\"): self.activation_values[i] = relu(np.sum(self.inputs * self.neuron_weights) + self.biases[i])\n",
    "                elif(self.activation_function == \"tanh\"): self.activation_values[i] = tanh(np.sum(self.inputs * self.neuron_weights) + self.biases[i])\n",
    "        else:\n",
    "            self.activation_values = input_values\n",
    "    def backpropagate(self, y):\n",
    "        if(self.layer_number == 1):\n",
    "            self.output_error =  np.subtract(y, self.nn.output_values)\n",
    "\n",
    "def sigmoid(x):\n",
    "    return(1/(1+math.e**(x*-1)))\n",
    "\n",
    "def relu(x):\n",
    "    if x < 0: x = 0\n",
    "    return(x)\n",
    "\n",
    "def tanh(x):\n",
    "    return(math.tanh(x))\n",
    "\n",
    "def softmax(x):\n",
    "    return np.exp(x) / np.sum(np.exp(x), axis=0)\n",
    "\n",
    "def deriv_sigmoid(x):\n",
    "    x = sigmoid(x)\n",
    "    return(x * (1 - x))"
   ]
  },
  {
   "cell_type": "code",
   "execution_count": null,
   "metadata": {},
   "outputs": [],
   "source": [
    "NeN = Neural_Network([8,4,4,9], \"sigmoid\")"
   ]
  },
  {
   "cell_type": "code",
   "execution_count": null,
   "metadata": {},
   "outputs": [],
   "source": [
    "NeN.feedforward()"
   ]
  },
  {
   "cell_type": "code",
   "execution_count": null,
   "metadata": {},
   "outputs": [],
   "source": [
    "NeN.backpropagate()"
   ]
  }
 ],
 "metadata": {
  "kernelspec": {
   "display_name": "Python 3",
   "language": "python",
   "name": "python3"
  },
  "language_info": {
   "codemirror_mode": {
    "name": "ipython",
    "version": 3
   },
   "file_extension": ".py",
   "mimetype": "text/x-python",
   "name": "python",
   "nbconvert_exporter": "python",
   "pygments_lexer": "ipython3",
   "version": "3.13.0"
  }
 },
 "nbformat": 4,
 "nbformat_minor": 2
}
