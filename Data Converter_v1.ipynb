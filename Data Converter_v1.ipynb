{
 "cells": [
  {
   "cell_type": "code",
   "execution_count": null,
   "metadata": {},
   "outputs": [],
   "source": [
    "import csv\n",
    "import numpy as np\n",
    "\n",
    "with open(\"output1.csv\", mode=\"w\", newline=\"\") as csv_file:\n",
    "    writer = csv.writer(csv_file)\n",
    "\n",
    "    for i in range(33):\n",
    "         with open(f\"save{i+1}.txt\", mode='r') as file:\n",
    "            txt = file.readlines()\n",
    "            \n",
    "            labels = txt[-1].strip(\"' '\").split(', ')\n",
    "            print(labels[0])\n",
    "\n",
    "            pixels = txt[:-1]\n",
    "            i = 0\n",
    "            for j, line in enumerate(pixels):\n",
    "                values = line.strip().split()\n",
    "                #print(values)\n",
    "                #print(labels)\n",
    "                values.insert(0, labels[j])\n",
    "                #print(values)\n",
    "                print(values)\n",
    "                i += 1\n",
    "                writer.writerow(values)\n",
    "            \n",
    "#            for linecount, line in enumerate(txt):\n",
    " #               if linecount != textlength - 1:\n",
    "  #                  values = np.array(line.split())\n",
    "   #                 values = np.array(values, dtype=np.float32)\n",
    "                \n",
    "                \n",
    "                      "
   ]
  },
  {
   "cell_type": "code",
   "execution_count": null,
   "metadata": {},
   "outputs": [],
   "source": [
    "import csv\n",
    "\n",
    "# Open the CSV file for writing\n",
    "with open(\"output.csv\", mode=\"w\", newline=\"\") as csv_file:\n",
    "    writer = csv.writer(csv_file)\n",
    "\n",
    "    # Loop through all .txt files\n",
    "    for i in range(33):\n",
    "        # Open each .txt file\n",
    "        with open(f\"save{i+1}.txt\", mode=\"r\") as file:\n",
    "            # Read all lines from the file\n",
    "            lines = file.readlines()\n",
    "            \n",
    "            # Separate the last line (labels) and the rest (pixel data)\n",
    "            labels = lines[-1].strip().split()  # Split last line into individual labels\n",
    "            pixel_data = lines[:-1]  # All lines except the last one are pixel data\n",
    "            \n",
    "            # Ensure the labels match the number of data lines\n",
    "            if len(labels) != len(pixel_data):\n",
    "                raise ValueError(f\"Mismatch: {len(labels)} labels but {len(pixel_data)} data lines in file save{i+1}.txt.\")\n",
    "            \n",
    "            # Iterate over the pixel data and corresponding labels\n",
    "            for label, line in zip(labels, pixel_data):\n",
    "                # Split the pixel values into a list\n",
    "                pixel_values = line.strip().split()\n",
    "                # Write the label followed by each pixel value as a new row\n",
    "                for pixel in pixel_values:\n",
    "                    writer.writerow([label, pixel])\n",
    "\n"
   ]
  }
 ],
 "metadata": {
  "kernelspec": {
   "display_name": "Python 3",
   "language": "python",
   "name": "python3"
  },
  "language_info": {
   "codemirror_mode": {
    "name": "ipython",
    "version": 3
   },
   "file_extension": ".py",
   "mimetype": "text/x-python",
   "name": "python",
   "nbconvert_exporter": "python",
   "pygments_lexer": "ipython3",
   "version": "3.11.9"
  }
 },
 "nbformat": 4,
 "nbformat_minor": 2
}
